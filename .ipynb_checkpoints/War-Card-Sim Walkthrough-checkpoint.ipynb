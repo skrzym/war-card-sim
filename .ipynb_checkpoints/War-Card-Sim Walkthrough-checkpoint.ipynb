{
 "cells": [
  {
   "cell_type": "markdown",
   "metadata": {},
   "source": [
    "# War-Card-Sim Walkthrough\n",
    "\n",
    "Author: Michael Skrzypiec @skrzym\n",
    "\n",
    "## Purpose:\n",
    "\n",
    "This notebook is a walkthrough of a simple python based simulation of the card game 'War'. \n",
    "\n",
    "This simulation and walkthrough is a learning project for me to: \n",
    "* Work with python some more\n",
    "* Test some basic python analytics and graphing packages\n",
    "* Use Jupyter/IPython notebooks\n",
    "* Keep everything organized with git and publishing on github.\n",
    "* Show how random the game of 'War' is if you didn't already know...\n",
    "\n",
    "## How to Play War\n",
    "Placeholder...\n",
    "\n",
    "## 100,000 Games Of War\n",
    "What can we learn from simulating so many games of war? Well lets take a look.\n",
    "\n",
    "First lets set up our simulation for 2 players to play 100,000 games of war and run the simulation"
   ]
  },
  {
   "cell_type": "code",
   "execution_count": 2,
   "metadata": {
    "collapsed": false
   },
   "outputs": [
    {
     "name": "stdout",
     "output_type": "stream",
     "text": [
      "Game 1000 of 1000\n",
      "War Cards:\t3\n",
      "P1 Wins:\t500\n",
      "P2 Wins:\t500\n",
      "Avg Len:\t232.67\n",
      "Avg WDif:\t13.01\n",
      "Avg Wars:\t29.23\n",
      "Sum Wars:\t29230\n",
      "Annom Rate:\t0.052\n"
     ]
    }
   ],
   "source": [
    "import war_sim\n",
    "my_sim = war_sim.Simulation(1000, 2)\n",
    "my_sim.run_simulation()"
   ]
  },
  {
   "cell_type": "code",
   "execution_count": null,
   "metadata": {
    "collapsed": true
   },
   "outputs": [],
   "source": []
  }
 ],
 "metadata": {
  "kernelspec": {
   "display_name": "Python 2",
   "language": "python",
   "name": "python2"
  },
  "language_info": {
   "codemirror_mode": {
    "name": "ipython",
    "version": 2
   },
   "file_extension": ".py",
   "mimetype": "text/x-python",
   "name": "python",
   "nbconvert_exporter": "python",
   "pygments_lexer": "ipython2",
   "version": "2.7.11"
  }
 },
 "nbformat": 4,
 "nbformat_minor": 0
}
